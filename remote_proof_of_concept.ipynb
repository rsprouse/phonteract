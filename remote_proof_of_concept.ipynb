{
 "cells": [
  {
   "cell_type": "markdown",
   "metadata": {},
   "source": [
    "# Remote speech processing with local display and playback\n",
    "\n",
    "This notebook should run properly in a Jupyter session running locally, or on a remote host (e.g. via binder.org). Speech processing is provided by the Parselmouth Praat library, and audio playback is on the client (javascript) side."
   ]
  },
  {
   "cell_type": "code",
   "execution_count": null,
   "metadata": {},
   "outputs": [],
   "source": [
    "from phonteract.plot import WaveformPlot\n",
    "import parselmouth\n",
    "import numpy as np\n",
    "import pandas as pd\n",
    "from bokeh.plotting import figure\n",
    "from bokeh.layouts import column\n",
    "from bokeh.palettes import Greys\n",
    "from bokeh.models import BoxZoomTool, ColumnDataSource, LinearColorMapper, LogColorMapper\n",
    "from bokeh.io import show, output_notebook\n",
    "\n",
    "output_notebook()"
   ]
  },
  {
   "cell_type": "code",
   "execution_count": null,
   "metadata": {},
   "outputs": [],
   "source": [
    "infile = 'resource/the_north_wind_and_the_sun.wav'\n",
    "snd = parselmouth.Sound(infile)"
   ]
  },
  {
   "cell_type": "markdown",
   "metadata": {},
   "source": [
    "Function required for embedded Bokeh app running on remote server. First, check the url bar and if the notebook is not running on localhost, expand the next cell and set `default_url` to the hostname, then execute. If running on localhost you can skip over the next cell."
   ]
  },
  {
   "cell_type": "code",
   "execution_count": null,
   "metadata": {
    "jupyter": {
     "source_hidden": true
    }
   },
   "outputs": [],
   "source": [
    "default_url = 'https://hub.gke.mybinder.org/'\n",
    "\n",
    "def remote_jupyter_proxy_url(port):\n",
    "    \"\"\"\n",
    "    Callable to configure Bokeh's show method when a proxy must be\n",
    "    configured.\n",
    "\n",
    "    If port is None we're asking about the URL\n",
    "    for the origin header.\n",
    "    \"\"\"\n",
    "    try:\n",
    "        base_url = os.environ['EXTERNAL_URL']\n",
    "    except KeyError:\n",
    "        base_url = default_url\n",
    "    host = urllib.parse.urlparse(base_url).netloc\n",
    "\n",
    "    # If port is None we're asking for the URL origin\n",
    "    # so return the public hostname.\n",
    "    if port is None:\n",
    "        return host\n",
    "\n",
    "    service_url_path = os.environ['JUPYTERHUB_SERVICE_PREFIX']\n",
    "    proxy_url_path = 'proxy/%d' % port\n",
    "\n",
    "    user_url = urllib.parse.urljoin(base_url, service_url_path)\n",
    "    full_url = urllib.parse.urljoin(user_url, proxy_url_path)\n",
    "    return full_url"
   ]
  },
  {
   "cell_type": "markdown",
   "metadata": {},
   "source": [
    "Proof of concept app that allows exploration of an audio waveform by zooming to a selected region. Press 'Play window' to play the current displayed waveform. Playback occurs in the javascript client, so should work even if backend is running on a remote server. Use the reset tool to restore to original zoom level."
   ]
  },
  {
   "cell_type": "code",
   "execution_count": null,
   "metadata": {},
   "outputs": [],
   "source": [
    "def wave_app(doc):\n",
    "    wp = WaveformPlot(np.squeeze(snd.values), snd.sampling_frequency)\n",
    "    wp.plot.plot_height = 200\n",
    "    doc.add_root(\n",
    "        column(wp.playbutton, wp.plot, wp.winstart_ti, wp.winend_ti, wp.fs_ti)\n",
    "    )\n",
    "    return doc\n",
    "\n",
    "show(wave_app)  # If running on localhost\n",
    "#show(wave_app, notebook_url=remote_jupyter_proxy_url)  # If running on a remote server"
   ]
  },
  {
   "cell_type": "markdown",
   "metadata": {},
   "source": [
    "Another proof of concept. Show Praat processing on remote server for local display of a spectrogram."
   ]
  },
  {
   "cell_type": "code",
   "execution_count": null,
   "metadata": {},
   "outputs": [],
   "source": [
    "sgram = snd.to_spectrogram()\n",
    "Sxx = sgram.values\n",
    "freqs = sgram.y_bins().mean(axis=1)\n",
    "times = sgram.x_bins().mean(axis=1)"
   ]
  },
  {
   "cell_type": "code",
   "execution_count": null,
   "metadata": {},
   "outputs": [],
   "source": [
    "df = pd.DataFrame(index=freqs, data=Sxx, columns=times)\n",
    "df = pd.DataFrame(df.stack(), columns=['amp']).reset_index()\n",
    "\n",
    "palette = list(reversed(Greys[256]))\n",
    "mapper = LogColorMapper(palette=palette, low=df.amp.min(), high=df.amp.max())\n",
    "\n",
    "p = figure(title=\"Spectrogram\",\n",
    "    plot_width=600, plot_height=400,\n",
    "    tools=[BoxZoomTool(dimensions='width'),'reset'],\n",
    "    toolbar_location='below'\n",
    ")\n",
    "p.square(x=\"level_1\", y=\"level_0\", size=5,\n",
    "    source=df,\n",
    "    fill_color={'field': 'amp', 'transform': mapper},\n",
    "    line_color=None\n",
    ")\n",
    "\n",
    "show(p)"
   ]
  }
 ],
 "metadata": {
  "kernelspec": {
   "display_name": "Python 3",
   "language": "python",
   "name": "python3"
  },
  "language_info": {
   "codemirror_mode": {
    "name": "ipython",
    "version": 3
   },
   "file_extension": ".py",
   "mimetype": "text/x-python",
   "name": "python",
   "nbconvert_exporter": "python",
   "pygments_lexer": "ipython3",
   "version": "3.7.7"
  }
 },
 "nbformat": 4,
 "nbformat_minor": 4
}
